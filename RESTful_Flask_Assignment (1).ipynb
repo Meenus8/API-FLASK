{
  "cells": [
    {
      "cell_type": "markdown",
      "id": "3a3b321a",
      "metadata": {
        "id": "3a3b321a"
      },
      "source": [
        "\n",
        "# 🌐 RESTful API & Flask – Assignment\n",
        "\n",
        "---\n",
        "\n",
        "## 📘 Theoretical Questions\n",
        "\n",
        "### 1. What is a RESTful API?\n",
        "A RESTful API is an application programming interface that follows the principles of REST (Representational State Transfer). It allows communication between client and server via HTTP methods like GET, POST, PUT, DELETE. RESTful APIs are stateless, cacheable, and scalable.\n",
        "\n",
        "### 2. Explain the concept of API specification.\n",
        "An API specification defines how the API behaves. It includes information like available endpoints, HTTP methods, expected inputs/outputs, authentication, and error responses. OpenAPI (formerly Swagger) is a common standard for API specifications.\n",
        "\n",
        "### 3. What is Flask, and why is it popular for building APIs?\n",
        "Flask is a lightweight Python web framework ideal for building web applications and APIs. It’s popular due to:\n",
        "- Simple and minimalistic core.\n",
        "- Flexibility to choose components.\n",
        "- Rich ecosystem with extensions like Flask-RESTful and Flask-SQLAlchemy.\n",
        "\n",
        "### 4. What is routing in Flask?\n",
        "Routing is the mechanism to bind a URL path to a function (called a view). In Flask, routing is defined using the `@app.route()` decorator. Each route corresponds to an endpoint in the web application or API.\n",
        "\n",
        "### 5. How do you create a simple Flask application?\n",
        "```python\n",
        "from flask import Flask\n",
        "app = Flask(__name__)\n",
        "\n",
        "@app.route(\"/\")\n",
        "def home():\n",
        "    return \"Hello, Flask!\"\n",
        "\n",
        "if __name__ == \"__main__\":\n",
        "    app.run(debug=True)\n",
        "```\n",
        "\n",
        "### 6. What are HTTP methods used in RESTful APIs?\n",
        "Common HTTP methods:\n",
        "- **GET** – Retrieve data.\n",
        "- **POST** – Submit new data.\n",
        "- **PUT** – Update existing data.\n",
        "- **DELETE** – Remove data.\n",
        "- **PATCH** – Partially update data.\n",
        "\n",
        "### 7. What is the purpose of the `@app.route()` decorator in Flask?\n",
        "It binds a specific URL to a view function. This tells Flask which function to execute when a user accesses that route.\n",
        "\n",
        "### 8. What is the difference between GET and POST HTTP methods?\n",
        "- **GET**: Retrieves data from the server. Parameters are sent via URL.\n",
        "- **POST**: Sends data to the server (e.g., form submissions). Data is sent in the request body.\n",
        "\n",
        "### 9. How do you handle errors in Flask APIs?\n",
        "Using error handlers:\n",
        "```python\n",
        "@app.errorhandler(404)\n",
        "def not_found(e):\n",
        "    return {\"error\": \"Not found\"}, 404\n",
        "```\n",
        "\n",
        "### 10. How do you connect Flask to a SQL database?\n",
        "Using Flask-SQLAlchemy:\n",
        "```python\n",
        "from flask_sqlalchemy import SQLAlchemy\n",
        "\n",
        "app.config['SQLALCHEMY_DATABASE_URI'] = 'sqlite:///test.db'\n",
        "db = SQLAlchemy(app)\n",
        "```\n",
        "\n",
        "### 11. What is the role of Flask-SQLAlchemy?\n",
        "It is an ORM (Object Relational Mapper) that allows easy database operations using Python classes instead of SQL queries.\n",
        "\n",
        "### 12. What are Flask blueprints, and how are they useful?\n",
        "Blueprints help structure a Flask app by grouping routes and logic into modules. Useful for large apps or API versioning.\n",
        "\n",
        "### 13. What is the purpose of Flask's request object?\n",
        "`request` gives access to incoming request data (form data, JSON, headers, etc.).\n",
        "\n",
        "### 14. How do you create a RESTful API endpoint using Flask?\n",
        "```python\n",
        "from flask import jsonify\n",
        "\n",
        "@app.route('/api/data', methods=['GET'])\n",
        "def get_data():\n",
        "    return jsonify({\"message\": \"This is an API response\"})\n",
        "```\n",
        "\n",
        "### 15. What is the purpose of Flask's jsonify() function?\n",
        "It converts Python dictionaries or lists to JSON format suitable for API responses.\n",
        "\n",
        "### 16. Explain Flask’s `url_for()` function.\n",
        "`url_for()` generates a URL for a given view function name, making navigation easier and more reliable:\n",
        "```python\n",
        "url_for('home')\n",
        "```\n",
        "\n",
        "### 17. How does Flask handle static files (CSS, JavaScript, etc.)?\n",
        "Flask automatically serves files from the `/static/` folder. For example:\n",
        "```html\n",
        "<link rel=\"stylesheet\" href=\"{{ url_for('static', filename='style.css') }}\">\n",
        "```\n",
        "\n",
        "### 18. What is an API specification, and how does it help in building a Flask API?\n",
        "It defines how clients interact with the API. Helps in standardization, documentation, and automation of testing using tools like Swagger.\n",
        "\n",
        "### 19. What are HTTP status codes, and why are they important in a Flask API?\n",
        "They indicate the result of an HTTP request:\n",
        "- 200 OK\n",
        "- 201 Created\n",
        "- 400 Bad Request\n",
        "- 404 Not Found\n",
        "- 500 Server Error\n",
        "\n",
        "### 20. How do you handle POST requests in Flask?\n",
        "```python\n",
        "from flask import request\n",
        "\n",
        "@app.route('/submit', methods=['POST'])\n",
        "def submit():\n",
        "    data = request.json\n",
        "    return jsonify(data)\n",
        "```\n",
        "\n",
        "### 21. How would you secure a Flask API?\n",
        "- Use HTTPS\n",
        "- Authentication (JWT, OAuth)\n",
        "- Rate limiting\n",
        "- Input validation\n",
        "- API key management\n",
        "\n",
        "### 22. What is the significance of the Flask-RESTful extension?\n",
        "It simplifies building REST APIs by providing classes like `Resource`, automatic URL routing, and response formatting.\n",
        "\n",
        "### 23. What is the role of Flask’s session object?\n",
        "It stores user data across requests using secure cookies. Used for login systems, preferences, etc.\n",
        "\n",
        "---\n",
        "\n",
        "## 💻 Practical Questions\n",
        "\n",
        "\n"
      ]
    },
    {
      "cell_type": "markdown",
      "source": [
        "How do you create a basic Flask application4"
      ],
      "metadata": {
        "id": "uluosp3RHKB8"
      },
      "id": "uluosp3RHKB8"
    },
    {
      "cell_type": "code",
      "source": [
        "from flask import Flask\n",
        "\n",
        "app = Flask(__name__)\n",
        "\n",
        "@app.route('/')\n",
        "def home():\n",
        "    return \"Hello from Flask!\"\n",
        "\n",
        "if __name__ == '__main__':\n",
        "    app.run(debug=True)\n"
      ],
      "metadata": {
        "id": "DzDu3ZKTHLPw"
      },
      "id": "DzDu3ZKTHLPw",
      "execution_count": null,
      "outputs": []
    },
    {
      "cell_type": "markdown",
      "source": [
        " How do you serve static files like images or CSS in Flask4\n"
      ],
      "metadata": {
        "id": "_EYKQ7PGHrSm"
      },
      "id": "_EYKQ7PGHrSm"
    },
    {
      "cell_type": "code",
      "source": [
        "from flask import Flask, send_file\n",
        "from flask_ngrok import run_with_ngrok\n",
        "\n",
        "app = Flask(__name__)\n",
        "run_with_ngrok(app)\n",
        "\n",
        "@app.route('/')\n",
        "def serve_image():\n",
        "    return send_file('sample.png', mimetype='image/png')  # Upload 'sample.png' in Colab files\n",
        "\n",
        "app.run()\n"
      ],
      "metadata": {
        "id": "rIQifq63HwX5"
      },
      "id": "rIQifq63HwX5",
      "execution_count": null,
      "outputs": []
    },
    {
      "cell_type": "markdown",
      "source": [],
      "metadata": {
        "id": "mD53liSeHC2C"
      },
      "id": "mD53liSeHC2C"
    },
    {
      "cell_type": "markdown",
      "source": [
        " How do you define different routes with different HTTP methods in Flask4\n"
      ],
      "metadata": {
        "id": "564fSZO7ILUN"
      },
      "id": "564fSZO7ILUN"
    },
    {
      "cell_type": "code",
      "source": [
        "from flask import Flask, request\n",
        "from flask_ngrok import run_with_ngrok\n",
        "\n",
        "app = Flask(__name__)\n",
        "run_with_ngrok(app)\n",
        "\n",
        "@app.route('/submit', methods=['GET', 'POST'])\n",
        "def submit():\n",
        "    if request.method == 'POST':\n",
        "        return \"POST request received\"\n",
        "    return \"GET request received\"\n",
        "\n",
        "app.run()\n"
      ],
      "metadata": {
        "id": "k25yObVAIPNH"
      },
      "id": "k25yObVAIPNH",
      "execution_count": null,
      "outputs": []
    },
    {
      "cell_type": "markdown",
      "source": [
        " How do you render HTML templates in Flask4\n"
      ],
      "metadata": {
        "id": "Ts71MYB3ISO2"
      },
      "id": "Ts71MYB3ISO2"
    },
    {
      "cell_type": "code",
      "source": [
        "from flask import Flask, render_template_string\n",
        "from flask_ngrok import run_with_ngrok\n",
        "\n",
        "app = Flask(__name__)\n",
        "run_with_ngrok(app)\n",
        "\n",
        "@app.route(\"/\")\n",
        "def home():\n",
        "    return render_template_string(\"<h1>Welcome to Flask Template</h1>\")\n",
        "\n",
        "app.run()\n"
      ],
      "metadata": {
        "id": "UTb2bjwxIVdG"
      },
      "id": "UTb2bjwxIVdG",
      "execution_count": null,
      "outputs": []
    },
    {
      "cell_type": "markdown",
      "source": [
        "M How can you generate URLs for routes in Flask using url_for4\n"
      ],
      "metadata": {
        "id": "X9jzsmaaIYXz"
      },
      "id": "X9jzsmaaIYXz"
    },
    {
      "cell_type": "code",
      "source": [
        "from flask import Flask, url_for\n",
        "from flask_ngrok import run_with_ngrok\n",
        "\n",
        "app = Flask(__name__)\n",
        "run_with_ngrok(app)\n",
        "\n",
        "@app.route('/about')\n",
        "def about():\n",
        "    return \"About Page\"\n",
        "\n",
        "@app.route('/')\n",
        "def home():\n",
        "    return f\"Go to About Page: {url_for('about')}\"\n",
        "\n",
        "app.run()\n"
      ],
      "metadata": {
        "id": "PaZvxcN1IbmS"
      },
      "id": "PaZvxcN1IbmS",
      "execution_count": null,
      "outputs": []
    },
    {
      "cell_type": "markdown",
      "source": [
        "How do you handle forms in Flask4"
      ],
      "metadata": {
        "id": "H0v2TfmuIf4Y"
      },
      "id": "H0v2TfmuIf4Y"
    },
    {
      "cell_type": "code",
      "source": [
        "from flask import Flask, request, render_template_string\n",
        "from flask_ngrok import run_with_ngrok\n",
        "\n",
        "app = Flask(__name__)\n",
        "run_with_ngrok(app)\n",
        "\n",
        "form_html = '''\n",
        "<form method=\"POST\">\n",
        "  <input name=\"name\">\n",
        "  <input type=\"submit\">\n",
        "</form>\n",
        "'''\n",
        "\n",
        "@app.route(\"/form\", methods=[\"GET\", \"POST\"])\n",
        "def form():\n",
        "    if request.method == \"POST\":\n",
        "        return f\"Hello {request.form['name']}\"\n",
        "    return render_template_string(form_html)\n",
        "\n",
        "app.run()\n"
      ],
      "metadata": {
        "id": "chWh1_nnIj1n"
      },
      "id": "chWh1_nnIj1n",
      "execution_count": null,
      "outputs": []
    },
    {
      "cell_type": "markdown",
      "source": [
        "How can you validate form data in Flask4"
      ],
      "metadata": {
        "id": "F37NLB8PInCi"
      },
      "id": "F37NLB8PInCi"
    },
    {
      "cell_type": "code",
      "source": [
        "@app.route(\"/validate\", methods=[\"POST\"])\n",
        "def validate():\n",
        "    email = request.form.get(\"email\")\n",
        "    if not email:\n",
        "        return \"Email is required\", 400\n",
        "    return \"Valid Email\"\n"
      ],
      "metadata": {
        "id": "lXfqQftQIqGu"
      },
      "id": "lXfqQftQIqGu",
      "execution_count": null,
      "outputs": []
    },
    {
      "cell_type": "markdown",
      "source": [
        " How do you manage sessions in Flask4"
      ],
      "metadata": {
        "id": "0WtwaoOKIsvI"
      },
      "id": "0WtwaoOKIsvI"
    },
    {
      "cell_type": "code",
      "source": [
        "from flask import Flask, session\n",
        "from flask_ngrok import run_with_ngrok\n",
        "\n",
        "app = Flask(__name__)\n",
        "run_with_ngrok(app)\n",
        "app.secret_key = 'your_secret_key'\n",
        "\n",
        "@app.route(\"/login\")\n",
        "def login():\n",
        "    session['user'] = 'admin'\n",
        "    return \"Logged in\"\n",
        "\n",
        "@app.route(\"/profile\")\n",
        "def profile():\n",
        "    return f\"Logged in as {session.get('user')}\"\n",
        "\n",
        "app.run()\n"
      ],
      "metadata": {
        "id": "kpBz5CrNIvcN"
      },
      "id": "kpBz5CrNIvcN",
      "execution_count": null,
      "outputs": []
    },
    {
      "cell_type": "markdown",
      "source": [
        "How do you redirect to a different route in Flask4\n"
      ],
      "metadata": {
        "id": "usJN-3ovIyM6"
      },
      "id": "usJN-3ovIyM6"
    },
    {
      "cell_type": "code",
      "source": [
        "from flask import Flask, redirect, url_for\n",
        "from flask_ngrok import run_with_ngrok\n",
        "\n",
        "app = Flask(__name__)\n",
        "run_with_ngrok(app)\n",
        "\n",
        "@app.route(\"/\")\n",
        "def main():\n",
        "    return redirect(url_for(\"welcome\"))\n",
        "\n",
        "@app.route(\"/welcome\")\n",
        "def welcome():\n",
        "    return \"Welcome Page\"\n",
        "\n",
        "app.run()\n"
      ],
      "metadata": {
        "id": "fuAlwTfFI0zw"
      },
      "id": "fuAlwTfFI0zw",
      "execution_count": null,
      "outputs": []
    },
    {
      "cell_type": "markdown",
      "source": [
        "How do you handle errors in Flask (e.g., 404)4"
      ],
      "metadata": {
        "id": "J7ydT1hqI4Gi"
      },
      "id": "J7ydT1hqI4Gi"
    },
    {
      "cell_type": "code",
      "source": [
        "@app.errorhandler(404)\n",
        "def page_not_found(e):\n",
        "    return \"Custom 404 Page Not Found\", 404\n"
      ],
      "metadata": {
        "id": "anYg1yrZI7Bt"
      },
      "id": "anYg1yrZI7Bt",
      "execution_count": null,
      "outputs": []
    },
    {
      "cell_type": "markdown",
      "source": [
        "M How do you structure a Flask app using Blueprints4"
      ],
      "metadata": {
        "id": "ifJzh_GXI-eN"
      },
      "id": "ifJzh_GXI-eN"
    },
    {
      "cell_type": "code",
      "source": [
        "from flask import Flask, Blueprint\n",
        "from flask_ngrok import run_with_ngrok\n",
        "\n",
        "app = Flask(__name__)\n",
        "run_with_ngrok(app)\n",
        "\n",
        "bp = Blueprint('bp', __name__)\n",
        "\n",
        "@bp.route(\"/hello\")\n",
        "def hello():\n",
        "    return \"Hello from Blueprint\"\n",
        "\n",
        "app.register_blueprint(bp)\n",
        "\n",
        "app.run()"
      ],
      "metadata": {
        "id": "Ee9dCXoqJBVf"
      },
      "id": "Ee9dCXoqJBVf",
      "execution_count": null,
      "outputs": []
    },
    {
      "cell_type": "markdown",
      "source": [
        " How do you define a custom Jinja filter in Flask4"
      ],
      "metadata": {
        "id": "yujhuwsRJGrP"
      },
      "id": "yujhuwsRJGrP"
    },
    {
      "cell_type": "code",
      "source": [
        "from flask import Flask, render_template_string\n",
        "from flask_ngrok import run_with_ngrok\n",
        "\n",
        "app = Flask(__name__)\n",
        "run_with_ngrok(app)\n",
        "\n",
        "@app.template_filter('reverse')\n",
        "def reverse_filter(s):\n",
        "    return s[::-1]\n",
        "\n",
        "@app.route(\"/\")\n",
        "def show():\n",
        "    return render_template_string(\"{{ 'Flask' | reverse }}\")\n",
        "\n",
        "app.run()\n"
      ],
      "metadata": {
        "id": "ub19XDMvJJ-7"
      },
      "id": "ub19XDMvJJ-7",
      "execution_count": null,
      "outputs": []
    },
    {
      "cell_type": "markdown",
      "source": [
        " How can you redirect with query parameters in Flask4"
      ],
      "metadata": {
        "id": "S4e33L2QJNYs"
      },
      "id": "S4e33L2QJNYs"
    },
    {
      "cell_type": "code",
      "source": [
        "from flask import Flask, redirect, url_for, request\n",
        "from flask_ngrok import run_with_ngrok\n",
        "\n",
        "app = Flask(__name__)\n",
        "run_with_ngrok(app)\n",
        "\n",
        "@app.route(\"/\")\n",
        "def home():\n",
        "    return redirect(url_for('greet', name='Bashira'))\n",
        "\n",
        "@app.route(\"/greet\")\n",
        "def greet():\n",
        "    name = request.args.get('name', 'Guest')\n",
        "    return f\"Hello, {name}!\"\n",
        "\n",
        "app.run()\n"
      ],
      "metadata": {
        "id": "PxWamG7qJQhM"
      },
      "id": "PxWamG7qJQhM",
      "execution_count": null,
      "outputs": []
    },
    {
      "cell_type": "markdown",
      "source": [
        "How do you return JSON responses in Flask4"
      ],
      "metadata": {
        "id": "Pj3Q1v5aJTjq"
      },
      "id": "Pj3Q1v5aJTjq"
    },
    {
      "cell_type": "code",
      "source": [
        "from flask import Flask, jsonify\n",
        "from flask_ngrok import run_with_ngrok\n",
        "\n",
        "app = Flask(__name__)\n",
        "run_with_ngrok(app)\n",
        "\n",
        "@app.route(\"/json\")\n",
        "def send_json():\n",
        "    return jsonify({\"status\": \"success\", \"message\": \"Hello JSON\"})\n",
        "\n",
        "app.run()\n"
      ],
      "metadata": {
        "id": "MBq2oT7RJW3p"
      },
      "id": "MBq2oT7RJW3p",
      "execution_count": null,
      "outputs": []
    },
    {
      "cell_type": "markdown",
      "source": [
        " How do you capture URL parameters in Flask?"
      ],
      "metadata": {
        "id": "uAnKvtWzJZq-"
      },
      "id": "uAnKvtWzJZq-"
    },
    {
      "cell_type": "code",
      "source": [
        "from flask import Flask\n",
        "from flask_ngrok import run_with_ngrok\n",
        "\n",
        "app = Flask(__name__)\n",
        "run_with_ngrok(app)\n",
        "\n",
        "@app.route('/user/<username>')\n",
        "def show_user(username):\n",
        "    return f\"User: {username}\"\n",
        "\n",
        "app.run()"
      ],
      "metadata": {
        "id": "ByO3ksrLJeuf"
      },
      "id": "ByO3ksrLJeuf",
      "execution_count": null,
      "outputs": []
    }
  ],
  "metadata": {
    "colab": {
      "provenance": []
    },
    "language_info": {
      "name": "python"
    },
    "kernelspec": {
      "name": "python3",
      "display_name": "Python 3"
    }
  },
  "nbformat": 4,
  "nbformat_minor": 5
}